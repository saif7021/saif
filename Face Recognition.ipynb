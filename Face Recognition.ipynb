{
 "cells": [
  {
   "cell_type": "code",
   "execution_count": 1,
   "metadata": {},
   "outputs": [
    {
     "name": "stderr",
     "output_type": "stream",
     "text": [
      "Using TensorFlow backend.\n"
     ]
    }
   ],
   "source": [
    "from keras.models import Sequential\n",
    "from keras.layers import Dense\n",
    "from keras.layers import Convolution2D\n",
    "from keras.layers import MaxPooling2D\n",
    "from keras.layers import Flatten"
   ]
  },
  {
   "cell_type": "code",
   "execution_count": 2,
   "metadata": {},
   "outputs": [],
   "source": [
    "model=Sequential()"
   ]
  },
  {
   "cell_type": "code",
   "execution_count": 3,
   "metadata": {},
   "outputs": [],
   "source": [
    "model.add(Convolution2D(32,(3,3),input_shape=(128,128,3),activation=\"relu\"))"
   ]
  },
  {
   "cell_type": "code",
   "execution_count": 4,
   "metadata": {},
   "outputs": [
    {
     "name": "stdout",
     "output_type": "stream",
     "text": [
      "WARNING:tensorflow:From C:\\Users\\Saif\\Anaconda3\\lib\\site-packages\\keras\\backend\\tensorflow_backend.py:4070: The name tf.nn.max_pool is deprecated. Please use tf.nn.max_pool2d instead.\n",
      "\n"
     ]
    }
   ],
   "source": [
    "model.add(MaxPooling2D(pool_size = (2, 2)))"
   ]
  },
  {
   "cell_type": "code",
   "execution_count": 5,
   "metadata": {},
   "outputs": [],
   "source": [
    "model.add(Flatten())"
   ]
  },
  {
   "cell_type": "code",
   "execution_count": 6,
   "metadata": {},
   "outputs": [
    {
     "name": "stderr",
     "output_type": "stream",
     "text": [
      "C:\\Users\\Saif\\Anaconda3\\lib\\site-packages\\ipykernel_launcher.py:1: UserWarning: Update your `Dense` call to the Keras 2 API: `Dense(activation=\"relu\", units=120, kernel_initializer=\"uniform\")`\n",
      "  \"\"\"Entry point for launching an IPython kernel.\n"
     ]
    }
   ],
   "source": [
    "model.add(Dense(init=\"uniform\",activation=\"relu\",output_dim=120))"
   ]
  },
  {
   "cell_type": "code",
   "execution_count": 7,
   "metadata": {},
   "outputs": [
    {
     "name": "stderr",
     "output_type": "stream",
     "text": [
      "C:\\Users\\Saif\\Anaconda3\\lib\\site-packages\\ipykernel_launcher.py:1: UserWarning: Update your `Dense` call to the Keras 2 API: `Dense(activation=\"relu\", units=100, kernel_initializer=\"uniform\")`\n",
      "  \"\"\"Entry point for launching an IPython kernel.\n"
     ]
    }
   ],
   "source": [
    "model.add(Dense(init=\"uniform\",activation=\"relu\",output_dim=100))"
   ]
  },
  {
   "cell_type": "code",
   "execution_count": 8,
   "metadata": {},
   "outputs": [
    {
     "name": "stderr",
     "output_type": "stream",
     "text": [
      "C:\\Users\\Saif\\Anaconda3\\lib\\site-packages\\ipykernel_launcher.py:1: UserWarning: Update your `Dense` call to the Keras 2 API: `Dense(activation=\"sigmoid\", units=3, kernel_initializer=\"uniform\")`\n",
      "  \"\"\"Entry point for launching an IPython kernel.\n"
     ]
    }
   ],
   "source": [
    "model.add(Dense(init=\"uniform\",activation=\"sigmoid\",output_dim=3))"
   ]
  },
  {
   "cell_type": "code",
   "execution_count": 9,
   "metadata": {},
   "outputs": [],
   "source": [
    "model.compile(loss=\"categorical_crossentropy\",optimizer=\"adam\",metrics=[\"accuracy\"])"
   ]
  },
  {
   "cell_type": "code",
   "execution_count": 10,
   "metadata": {},
   "outputs": [],
   "source": [
    "from keras.preprocessing.image import ImageDataGenerator"
   ]
  },
  {
   "cell_type": "code",
   "execution_count": 11,
   "metadata": {},
   "outputs": [],
   "source": [
    "train_datagen = ImageDataGenerator(rescale = 1./255,\n",
    "                                   shear_range = 0.2,\n",
    "                                   zoom_range = 0.2,\n",
    "                                   horizontal_flip = True)"
   ]
  },
  {
   "cell_type": "code",
   "execution_count": 12,
   "metadata": {},
   "outputs": [],
   "source": [
    "test_datagen = ImageDataGenerator(rescale = 1./255)"
   ]
  },
  {
   "cell_type": "code",
   "execution_count": 13,
   "metadata": {},
   "outputs": [
    {
     "name": "stdout",
     "output_type": "stream",
     "text": [
      "Found 1790 images belonging to 3 classes.\n"
     ]
    }
   ],
   "source": [
    "x_train = train_datagen.flow_from_directory(r'C:\\Users\\Saif\\face recognition\\training_set',\n",
    "                                                 target_size = (128, 128),\n",
    "                                                 batch_size = 32,\n",
    "                                                     class_mode = 'categorical')"
   ]
  },
  {
   "cell_type": "code",
   "execution_count": 14,
   "metadata": {},
   "outputs": [
    {
     "name": "stdout",
     "output_type": "stream",
     "text": [
      "Found 416 images belonging to 3 classes.\n"
     ]
    }
   ],
   "source": [
    "x_test = test_datagen.flow_from_directory(r'C:\\Users\\Saif\\face recognition\\testing_set',\n",
    "                                            target_size = (128, 128),\n",
    "                                            batch_size = 32,\n",
    "                                            class_mode = 'categorical')"
   ]
  },
  {
   "cell_type": "code",
   "execution_count": 15,
   "metadata": {},
   "outputs": [
    {
     "name": "stdout",
     "output_type": "stream",
     "text": [
      "{'hrithik roshan': 0, 'shahrukh khan': 1, 'tiger shroff': 2}\n"
     ]
    }
   ],
   "source": [
    "print(x_train.class_indices)"
   ]
  },
  {
   "cell_type": "code",
   "execution_count": 16,
   "metadata": {},
   "outputs": [
    {
     "data": {
      "text/plain": [
       "(array([[[[0.        , 0.00392157, 0.        ],\n",
       "          [0.        , 0.00392157, 0.        ],\n",
       "          [0.        , 0.00392157, 0.        ],\n",
       "          ...,\n",
       "          [0.        , 0.        , 0.        ],\n",
       "          [0.        , 0.        , 0.        ],\n",
       "          [0.        , 0.        , 0.        ]],\n",
       " \n",
       "         [[0.        , 0.00392157, 0.        ],\n",
       "          [0.        , 0.00392157, 0.        ],\n",
       "          [0.        , 0.00392157, 0.        ],\n",
       "          ...,\n",
       "          [0.        , 0.        , 0.        ],\n",
       "          [0.        , 0.        , 0.        ],\n",
       "          [0.        , 0.        , 0.        ]],\n",
       " \n",
       "         [[0.        , 0.00392157, 0.        ],\n",
       "          [0.        , 0.00392157, 0.        ],\n",
       "          [0.        , 0.00392157, 0.        ],\n",
       "          ...,\n",
       "          [0.        , 0.        , 0.        ],\n",
       "          [0.        , 0.        , 0.        ],\n",
       "          [0.        , 0.        , 0.        ]],\n",
       " \n",
       "         ...,\n",
       " \n",
       "         [[0.        , 0.        , 0.        ],\n",
       "          [0.        , 0.        , 0.        ],\n",
       "          [0.        , 0.        , 0.        ],\n",
       "          ...,\n",
       "          [0.        , 0.        , 0.        ],\n",
       "          [0.        , 0.        , 0.        ],\n",
       "          [0.        , 0.        , 0.        ]],\n",
       " \n",
       "         [[0.        , 0.        , 0.        ],\n",
       "          [0.        , 0.        , 0.        ],\n",
       "          [0.        , 0.        , 0.        ],\n",
       "          ...,\n",
       "          [0.        , 0.        , 0.        ],\n",
       "          [0.        , 0.        , 0.        ],\n",
       "          [0.        , 0.        , 0.        ]],\n",
       " \n",
       "         [[0.        , 0.        , 0.        ],\n",
       "          [0.        , 0.        , 0.        ],\n",
       "          [0.        , 0.        , 0.        ],\n",
       "          ...,\n",
       "          [0.        , 0.        , 0.        ],\n",
       "          [0.        , 0.        , 0.        ],\n",
       "          [0.        , 0.        , 0.        ]]],\n",
       " \n",
       " \n",
       "        [[[0.33869934, 0.4681111 , 0.84379953],\n",
       "          [0.3414914 , 0.4644687 , 0.8405767 ],\n",
       "          [0.3434753 , 0.46201217, 0.83581334],\n",
       "          ...,\n",
       "          [0.3797212 , 0.48560354, 0.8267801 ],\n",
       "          [0.37689474, 0.48277712, 0.82395357],\n",
       "          [0.37688565, 0.482768  , 0.8239445 ]],\n",
       " \n",
       "         [[0.345931  , 0.47534275, 0.84483963],\n",
       "          [0.34856597, 0.47271   , 0.8419705 ],\n",
       "          [0.35049406, 0.47095147, 0.838991  ],\n",
       "          ...,\n",
       "          [0.38346678, 0.48934913, 0.83052564],\n",
       "          [0.38265023, 0.4885326 , 0.8297091 ],\n",
       "          [0.37995085, 0.4858332 , 0.82700974]],\n",
       " \n",
       "         [[0.3528127 , 0.48222446, 0.84807074],\n",
       "          [0.3549757 , 0.4800978 , 0.8427192 ],\n",
       "          [0.3567706 , 0.47833925, 0.83921576],\n",
       "          ...,\n",
       "          [0.3903798 , 0.49626213, 0.8374386 ],\n",
       "          [0.38996625, 0.49584863, 0.8370251 ],\n",
       "          [0.3867354 , 0.49261776, 0.83379424]],\n",
       " \n",
       "         ...,\n",
       " \n",
       "         [[0.72242594, 0.7552525 , 0.9249556 ],\n",
       "          [0.70574045, 0.7400083 , 0.9059116 ],\n",
       "          [0.6862985 , 0.72220683, 0.88621676],\n",
       "          ...,\n",
       "          [0.09566146, 0.10066659, 0.24523641],\n",
       "          [0.00291868, 0.00474121, 0.14369002],\n",
       "          [0.01415807, 0.01893569, 0.14972056]],\n",
       " \n",
       "         [[0.7077885 , 0.7509258 , 0.93052804],\n",
       "          [0.7048629 , 0.74738467, 0.92962325],\n",
       "          [0.70309526, 0.7440517 , 0.9309863 ],\n",
       "          ...,\n",
       "          [0.00161841, 0.00725312, 0.16329181],\n",
       "          [0.01454095, 0.01590227, 0.16054317],\n",
       "          [0.12439266, 0.13601695, 0.28626883]],\n",
       " \n",
       "         [[0.7106925 , 0.7531914 , 0.93549865],\n",
       "          [0.7085568 , 0.7491425 , 0.9371893 ],\n",
       "          [0.70678914, 0.7460048 , 0.9381617 ],\n",
       "          ...,\n",
       "          [0.00706449, 0.01207031, 0.16648513],\n",
       "          [0.03671075, 0.04567833, 0.18965894],\n",
       "          [0.15974142, 0.17496625, 0.32363978]]],\n",
       " \n",
       " \n",
       "        [[[0.        , 0.00392157, 0.21568629],\n",
       "          [0.        , 0.00392157, 0.21568629],\n",
       "          [0.        , 0.00392157, 0.21568629],\n",
       "          ...,\n",
       "          [0.19681782, 0.07843138, 0.19840892],\n",
       "          [0.1968488 , 0.07843138, 0.19842441],\n",
       "          [0.19687976, 0.07843138, 0.1984399 ]],\n",
       " \n",
       "         [[0.        , 0.00392157, 0.21568629],\n",
       "          [0.        , 0.00392157, 0.21568629],\n",
       "          [0.        , 0.00392157, 0.21568629],\n",
       "          ...,\n",
       "          [0.1952622 , 0.07527283, 0.19210365],\n",
       "          [0.19521573, 0.07524186, 0.19202623],\n",
       "          [0.19516928, 0.0752109 , 0.19194882]],\n",
       " \n",
       "         [[0.00281421, 0.00392157, 0.20442946],\n",
       "          [0.00282969, 0.00392157, 0.20436753],\n",
       "          [0.00284517, 0.00392157, 0.20430559],\n",
       "          ...,\n",
       "          [0.18740723, 0.06727596, 0.17790796],\n",
       "          [0.18739174, 0.06721403, 0.17786151],\n",
       "          [0.18737626, 0.0671521 , 0.17781506]],\n",
       " \n",
       "         ...,\n",
       " \n",
       "         [[0.14681718, 0.13897404, 0.28407207],\n",
       "          [0.14666234, 0.1388192 , 0.28391725],\n",
       "          [0.14650752, 0.13866438, 0.28376243],\n",
       "          ...,\n",
       "          [0.03881641, 0.04665955, 0.19567917],\n",
       "          [0.03890931, 0.04675245, 0.19577207],\n",
       "          [0.03900221, 0.04684535, 0.19586498]],\n",
       " \n",
       "         [[0.11511352, 0.10727037, 0.25236842],\n",
       "          [0.11495867, 0.10711554, 0.2522136 ],\n",
       "          [0.11480384, 0.10696071, 0.25205874],\n",
       "          ...,\n",
       "          [0.03807567, 0.04591881, 0.19493844],\n",
       "          [0.03799826, 0.0458414 , 0.19486101],\n",
       "          [0.03792084, 0.04576398, 0.1947836 ]],\n",
       " \n",
       "         [[0.09553611, 0.08769297, 0.23279102],\n",
       "          [0.0954432 , 0.08760007, 0.23269811],\n",
       "          [0.09535031, 0.08750717, 0.23260522],\n",
       "          ...,\n",
       "          [0.03372355, 0.04156668, 0.19058631],\n",
       "          [0.03381645, 0.04165959, 0.1906792 ],\n",
       "          [0.03390935, 0.04175249, 0.19077212]]],\n",
       " \n",
       " \n",
       "        ...,\n",
       " \n",
       " \n",
       "        [[[0.7278895 , 0.73181105, 0.7004385 ],\n",
       "          [0.7225183 , 0.7264399 , 0.69506735],\n",
       "          [0.7225516 , 0.72647315, 0.6951006 ],\n",
       "          ...,\n",
       "          [0.88862747, 0.8953186 , 0.86617655],\n",
       "          [0.89260954, 0.89926744, 0.87011427],\n",
       "          [0.89703757, 0.90366226, 0.87449795]],\n",
       " \n",
       "         [[0.730064  , 0.73398554, 0.702613  ],\n",
       "          [0.73241264, 0.7363342 , 0.70496166],\n",
       "          [0.73244584, 0.7363674 , 0.70499486],\n",
       "          ...,\n",
       "          [0.8980393 , 0.8980393 , 0.86666673],\n",
       "          [0.8980393 , 0.8980393 , 0.86666673],\n",
       "          [0.8980393 , 0.8980393 , 0.86666673]],\n",
       " \n",
       "         [[0.73027366, 0.73419523, 0.7028227 ],\n",
       "          [0.73333335, 0.7372549 , 0.7058824 ],\n",
       "          [0.73333335, 0.7372549 , 0.7058824 ],\n",
       "          ...,\n",
       "          [0.8980393 , 0.8980393 , 0.86666673],\n",
       "          [0.8980393 , 0.8980393 , 0.86666673],\n",
       "          [0.8980393 , 0.8980393 , 0.86666673]],\n",
       " \n",
       "         ...,\n",
       " \n",
       "         [[0.7568628 , 0.7607844 , 0.7411765 ],\n",
       "          [0.7568628 , 0.7607844 , 0.7411765 ],\n",
       "          [0.75602853, 0.7599501 , 0.74034226],\n",
       "          ...,\n",
       "          [0.6762744 , 0.50374746, 0.36754093],\n",
       "          [0.67196506, 0.4936412 , 0.36170194],\n",
       "          [0.6506307 , 0.49981546, 0.37781814]],\n",
       " \n",
       "         [[0.7568628 , 0.7607844 , 0.7411765 ],\n",
       "          [0.7568628 , 0.7607844 , 0.7411765 ],\n",
       "          [0.75602853, 0.7599501 , 0.74034226],\n",
       "          ...,\n",
       "          [0.60533684, 0.46054024, 0.362501  ],\n",
       "          [0.5933447 , 0.44257376, 0.35062638],\n",
       "          [0.5723603 , 0.44759762, 0.35436946]],\n",
       " \n",
       "         [[0.7568628 , 0.7607844 , 0.7411765 ],\n",
       "          [0.7568628 , 0.7607844 , 0.7411765 ],\n",
       "          [0.75602853, 0.7599501 , 0.74034226],\n",
       "          ...,\n",
       "          [0.5785227 , 0.43372604, 0.33568683],\n",
       "          [0.567161  , 0.41639012, 0.3244427 ],\n",
       "          [0.54547215, 0.4207095 , 0.3274813 ]]],\n",
       " \n",
       " \n",
       "        [[[0.01568628, 0.02352941, 0.01960784],\n",
       "          [0.01568628, 0.02352941, 0.01960784],\n",
       "          [0.01568628, 0.02352941, 0.01960784],\n",
       "          ...,\n",
       "          [0.24313727, 0.2627451 , 0.2784314 ],\n",
       "          [0.24313727, 0.2627451 , 0.2784314 ],\n",
       "          [0.24313727, 0.2627451 , 0.2784314 ]],\n",
       " \n",
       "         [[0.01568628, 0.02352941, 0.01960784],\n",
       "          [0.01568628, 0.02352941, 0.01960784],\n",
       "          [0.01568628, 0.02352941, 0.01960784],\n",
       "          ...,\n",
       "          [0.24313727, 0.2627451 , 0.2784314 ],\n",
       "          [0.24313727, 0.2627451 , 0.2784314 ],\n",
       "          [0.24313727, 0.2627451 , 0.2784314 ]],\n",
       " \n",
       "         [[0.01568628, 0.02352941, 0.01960784],\n",
       "          [0.01568628, 0.02352941, 0.01960784],\n",
       "          [0.01568628, 0.02352941, 0.01960784],\n",
       "          ...,\n",
       "          [0.24313727, 0.2627451 , 0.2784314 ],\n",
       "          [0.24313727, 0.2627451 , 0.2784314 ],\n",
       "          [0.24313727, 0.2627451 , 0.2784314 ]],\n",
       " \n",
       "         ...,\n",
       " \n",
       "         [[0.04705883, 0.03137255, 0.03529412],\n",
       "          [0.04705883, 0.03137255, 0.03529412],\n",
       "          [0.04705883, 0.03137255, 0.03529412],\n",
       "          ...,\n",
       "          [0.9450981 , 0.7803922 , 0.7254902 ],\n",
       "          [0.9450981 , 0.7803922 , 0.7254902 ],\n",
       "          [0.9450981 , 0.7803922 , 0.7254902 ]],\n",
       " \n",
       "         [[0.04705883, 0.03137255, 0.03529412],\n",
       "          [0.04705883, 0.03137255, 0.03529412],\n",
       "          [0.04705883, 0.03137255, 0.03529412],\n",
       "          ...,\n",
       "          [0.9450981 , 0.7803922 , 0.7254902 ],\n",
       "          [0.9450981 , 0.7803922 , 0.7254902 ],\n",
       "          [0.9450981 , 0.7803922 , 0.7254902 ]],\n",
       " \n",
       "         [[0.04705883, 0.03137255, 0.03529412],\n",
       "          [0.04705883, 0.03137255, 0.03529412],\n",
       "          [0.04705883, 0.03137255, 0.03529412],\n",
       "          ...,\n",
       "          [0.9450981 , 0.7803922 , 0.7254902 ],\n",
       "          [0.9450981 , 0.7803922 , 0.7254902 ],\n",
       "          [0.9450981 , 0.7803922 , 0.7254902 ]]],\n",
       " \n",
       " \n",
       "        [[[0.57254905, 0.6431373 , 0.7843138 ],\n",
       "          [0.57254905, 0.6431373 , 0.7843138 ],\n",
       "          [0.57254905, 0.6431373 , 0.7843138 ],\n",
       "          ...,\n",
       "          [0.6464781 , 0.70530164, 0.8268703 ],\n",
       "          [0.6464875 , 0.705311  , 0.8268796 ],\n",
       "          [0.6464968 , 0.70532036, 0.826889  ]],\n",
       " \n",
       "         [[0.5710634 , 0.64165163, 0.7828281 ],\n",
       "          [0.5710727 , 0.641661  , 0.78283745],\n",
       "          [0.57108206, 0.6416703 , 0.78284675],\n",
       "          ...,\n",
       "          [0.64345706, 0.7022806 , 0.82384926],\n",
       "          [0.64344776, 0.7022713 , 0.8238399 ],\n",
       "          [0.6434384 , 0.7022619 , 0.82383054]],\n",
       " \n",
       "         [[0.5686275 , 0.6392157 , 0.7803922 ],\n",
       "          [0.5686275 , 0.6392157 , 0.7803922 ],\n",
       "          [0.5686275 , 0.6392157 , 0.7803922 ],\n",
       "          ...,\n",
       "          [0.647     , 0.7058236 , 0.8273922 ],\n",
       "          [0.6470094 , 0.7058329 , 0.8274015 ],\n",
       "          [0.64701873, 0.70584226, 0.8274109 ]],\n",
       " \n",
       "         ...,\n",
       " \n",
       "         [[0.4039216 , 0.49411768, 0.6901961 ],\n",
       "          [0.4039216 , 0.49411768, 0.6901961 ],\n",
       "          [0.4039216 , 0.49411768, 0.6901961 ],\n",
       "          ...,\n",
       "          [0.40784317, 0.5019608 , 0.6745098 ],\n",
       "          [0.40784317, 0.5019608 , 0.6745098 ],\n",
       "          [0.40784317, 0.5019608 , 0.6745098 ]],\n",
       " \n",
       "         [[0.4039216 , 0.49411768, 0.6901961 ],\n",
       "          [0.4039216 , 0.49411768, 0.6901961 ],\n",
       "          [0.4039216 , 0.49411768, 0.6901961 ],\n",
       "          ...,\n",
       "          [0.40784317, 0.5019608 , 0.6745098 ],\n",
       "          [0.40784317, 0.5019608 , 0.6745098 ],\n",
       "          [0.40784317, 0.5019608 , 0.6745098 ]],\n",
       " \n",
       "         [[0.4039216 , 0.49411768, 0.6901961 ],\n",
       "          [0.4039216 , 0.49411768, 0.6901961 ],\n",
       "          [0.4039216 , 0.49411768, 0.6901961 ],\n",
       "          ...,\n",
       "          [0.40784317, 0.5019608 , 0.6745098 ],\n",
       "          [0.40784317, 0.5019608 , 0.6745098 ],\n",
       "          [0.40784317, 0.5019608 , 0.6745098 ]]]], dtype=float32),\n",
       " array([[0., 0., 1.],\n",
       "        [0., 1., 0.],\n",
       "        [1., 0., 0.],\n",
       "        [0., 0., 1.],\n",
       "        [0., 1., 0.],\n",
       "        [0., 0., 1.],\n",
       "        [0., 0., 1.],\n",
       "        [1., 0., 0.],\n",
       "        [0., 1., 0.],\n",
       "        [1., 0., 0.],\n",
       "        [0., 1., 0.],\n",
       "        [0., 0., 1.],\n",
       "        [0., 0., 1.],\n",
       "        [0., 1., 0.],\n",
       "        [0., 0., 1.],\n",
       "        [1., 0., 0.],\n",
       "        [0., 0., 1.],\n",
       "        [0., 1., 0.],\n",
       "        [0., 0., 1.],\n",
       "        [0., 1., 0.],\n",
       "        [0., 1., 0.],\n",
       "        [1., 0., 0.],\n",
       "        [1., 0., 0.],\n",
       "        [0., 0., 1.],\n",
       "        [1., 0., 0.],\n",
       "        [0., 0., 1.],\n",
       "        [0., 1., 0.],\n",
       "        [1., 0., 0.],\n",
       "        [0., 1., 0.],\n",
       "        [0., 0., 1.],\n",
       "        [0., 0., 1.],\n",
       "        [0., 1., 0.]], dtype=float32))"
      ]
     },
     "execution_count": 16,
     "metadata": {},
     "output_type": "execute_result"
    }
   ],
   "source": [
    "x_train[0]"
   ]
  },
  {
   "cell_type": "code",
   "execution_count": 18,
   "metadata": {},
   "outputs": [
    {
     "name": "stdout",
     "output_type": "stream",
     "text": [
      "Epoch 1/20\n",
      "56/56 [==============================] - 60s 1s/step - loss: 1.0861 - accuracy: 0.3810 - val_loss: 1.0355 - val_accuracy: 0.3197\n",
      "Epoch 2/20\n",
      "56/56 [==============================] - 33s 588ms/step - loss: 1.0190 - accuracy: 0.4682 - val_loss: 1.0178 - val_accuracy: 0.3630\n",
      "Epoch 3/20\n",
      "56/56 [==============================] - 34s 603ms/step - loss: 0.9412 - accuracy: 0.5542 - val_loss: 0.6899 - val_accuracy: 0.7236\n",
      "Epoch 4/20\n",
      "56/56 [==============================] - 34s 608ms/step - loss: 0.8484 - accuracy: 0.6257 - val_loss: 0.7638 - val_accuracy: 0.7139\n",
      "Epoch 5/20\n",
      "56/56 [==============================] - 35s 618ms/step - loss: 0.7515 - accuracy: 0.6838 - val_loss: 1.0000 - val_accuracy: 0.6659\n",
      "Epoch 6/20\n",
      "56/56 [==============================] - 34s 614ms/step - loss: 0.6776 - accuracy: 0.7246 - val_loss: 0.3380 - val_accuracy: 0.8750\n",
      "Epoch 7/20\n",
      "56/56 [==============================] - 35s 628ms/step - loss: 0.5869 - accuracy: 0.7581 - val_loss: 0.2339 - val_accuracy: 0.9159\n",
      "Epoch 8/20\n",
      "56/56 [==============================] - 34s 603ms/step - loss: 0.5118 - accuracy: 0.8078 - val_loss: 0.3932 - val_accuracy: 0.8510\n",
      "Epoch 9/20\n",
      "56/56 [==============================] - 34s 615ms/step - loss: 0.4920 - accuracy: 0.7994 - val_loss: 0.2113 - val_accuracy: 0.9375\n",
      "Epoch 10/20\n",
      "56/56 [==============================] - 35s 618ms/step - loss: 0.3981 - accuracy: 0.8598 - val_loss: 0.2212 - val_accuracy: 0.9111\n",
      "Epoch 11/20\n",
      "56/56 [==============================] - 36s 645ms/step - loss: 0.3719 - accuracy: 0.8732 - val_loss: 0.0619 - val_accuracy: 0.9808\n",
      "Epoch 12/20\n",
      "56/56 [==============================] - 45s 806ms/step - loss: 0.3188 - accuracy: 0.8855 - val_loss: 0.1139 - val_accuracy: 0.9688\n",
      "Epoch 13/20\n",
      "56/56 [==============================] - 39s 689ms/step - loss: 0.3477 - accuracy: 0.8726 - val_loss: 0.1664 - val_accuracy: 0.9591\n",
      "Epoch 14/20\n",
      "56/56 [==============================] - 47s 837ms/step - loss: 0.2726 - accuracy: 0.9095 - val_loss: 0.0270 - val_accuracy: 0.9784\n",
      "Epoch 15/20\n",
      "56/56 [==============================] - 43s 770ms/step - loss: 0.2471 - accuracy: 0.9218 - val_loss: 0.0694 - val_accuracy: 0.9784\n",
      "Epoch 16/20\n",
      "56/56 [==============================] - 40s 712ms/step - loss: 0.2496 - accuracy: 0.9162 - val_loss: 0.0378 - val_accuracy: 0.9736\n",
      "Epoch 17/20\n",
      "56/56 [==============================] - 42s 758ms/step - loss: 0.2389 - accuracy: 0.9285 - val_loss: 0.0447 - val_accuracy: 0.9856\n",
      "Epoch 18/20\n",
      "56/56 [==============================] - 44s 787ms/step - loss: 0.1692 - accuracy: 0.9480 - val_loss: 0.1496 - val_accuracy: 0.9447\n",
      "Epoch 19/20\n",
      "56/56 [==============================] - 42s 744ms/step - loss: 0.2039 - accuracy: 0.9285 - val_loss: 0.0237 - val_accuracy: 0.9808\n",
      "Epoch 20/20\n",
      "56/56 [==============================] - 40s 713ms/step - loss: 0.1551 - accuracy: 0.9436 - val_loss: 0.0121 - val_accuracy: 0.9880\n"
     ]
    },
    {
     "data": {
      "text/plain": [
       "<keras.callbacks.callbacks.History at 0x18c875a6088>"
      ]
     },
     "execution_count": 18,
     "metadata": {},
     "output_type": "execute_result"
    }
   ],
   "source": [
    "model.fit_generator(x_train,\n",
    "                         steps_per_epoch = 56,\n",
    "                         epochs = 20,\n",
    "                         validation_data = x_test,\n",
    "                         validation_steps = 13)"
   ]
  },
  {
   "cell_type": "code",
   "execution_count": 19,
   "metadata": {},
   "outputs": [],
   "source": [
    "model.save(\"face recognition128.h5\")"
   ]
  },
  {
   "cell_type": "code",
   "execution_count": 20,
   "metadata": {},
   "outputs": [],
   "source": [
    "from keras.models import load_model"
   ]
  },
  {
   "cell_type": "code",
   "execution_count": 21,
   "metadata": {},
   "outputs": [],
   "source": [
    "import cv2"
   ]
  },
  {
   "cell_type": "code",
   "execution_count": 22,
   "metadata": {},
   "outputs": [],
   "source": [
    "import numpy as np"
   ]
  },
  {
   "cell_type": "code",
   "execution_count": 23,
   "metadata": {},
   "outputs": [],
   "source": [
    "model2=load_model(\"face recognition128.h5\")"
   ]
  },
  {
   "cell_type": "code",
   "execution_count": 24,
   "metadata": {},
   "outputs": [],
   "source": [
    "model2.compile(loss='categorical_crossentropy',\n",
    "                      optimizer='adam',\n",
    "                      metrics=['accuracy'])"
   ]
  },
  {
   "cell_type": "code",
   "execution_count": 25,
   "metadata": {},
   "outputs": [],
   "source": [
    "from skimage.transform import resize"
   ]
  },
  {
   "cell_type": "code",
   "execution_count": 26,
   "metadata": {},
   "outputs": [],
   "source": [
    "def detect(frame):\n",
    "    try:\n",
    "        img = resize(frame,(128,128))\n",
    "        img = np.expand_dims(img,axis=0)\n",
    "        if(np.max(img)>1):\n",
    "            img = img/255.0\n",
    "        prediction = model.predict(img)\n",
    "        pred=model.predict_classes(img)\n",
    "        print(pred)\n",
    "        print(prediction)\n",
    "        return prediction\n",
    "    except AttributeError:\n",
    "        print(\"shape not found\")"
   ]
  },
  {
   "cell_type": "code",
   "execution_count": 39,
   "metadata": {},
   "outputs": [],
   "source": [
    "frame=cv2.imread(r\"C:\\Users\\Saif\\face recognition\\testing_set\\tiger shroff\\2Q__ (47).jpg\")"
   ]
  },
  {
   "cell_type": "code",
   "execution_count": 40,
   "metadata": {},
   "outputs": [
    {
     "name": "stdout",
     "output_type": "stream",
     "text": [
      "[2]\n",
      "[[2.9166127e-05 2.1349592e-03 1.4592700e-01]]\n"
     ]
    }
   ],
   "source": [
    "data=detect(frame)"
   ]
  },
  {
   "cell_type": "code",
   "execution_count": 41,
   "metadata": {},
   "outputs": [
    {
     "data": {
      "text/plain": [
       "array([[2.9166127e-05, 2.1349592e-03, 1.4592700e-01]], dtype=float32)"
      ]
     },
     "execution_count": 41,
     "metadata": {},
     "output_type": "execute_result"
    }
   ],
   "source": [
    "data"
   ]
  },
  {
   "cell_type": "code",
   "execution_count": 42,
   "metadata": {},
   "outputs": [],
   "source": [
    "data1=list(data[0])"
   ]
  },
  {
   "cell_type": "code",
   "execution_count": 43,
   "metadata": {},
   "outputs": [],
   "source": [
    "a=max(data[0])"
   ]
  },
  {
   "cell_type": "code",
   "execution_count": 44,
   "metadata": {},
   "outputs": [
    {
     "data": {
      "text/plain": [
       "0.145927"
      ]
     },
     "execution_count": 44,
     "metadata": {},
     "output_type": "execute_result"
    }
   ],
   "source": [
    "a"
   ]
  },
  {
   "cell_type": "code",
   "execution_count": 45,
   "metadata": {},
   "outputs": [
    {
     "data": {
      "text/plain": [
       "list"
      ]
     },
     "execution_count": 45,
     "metadata": {},
     "output_type": "execute_result"
    }
   ],
   "source": [
    "type(data1)"
   ]
  },
  {
   "cell_type": "code",
   "execution_count": 46,
   "metadata": {},
   "outputs": [
    {
     "data": {
      "text/plain": [
       "2"
      ]
     },
     "execution_count": 46,
     "metadata": {},
     "output_type": "execute_result"
    }
   ],
   "source": [
    "data1.index(a)"
   ]
  },
  {
   "cell_type": "code",
   "execution_count": null,
   "metadata": {},
   "outputs": [],
   "source": []
  }
 ],
 "metadata": {
  "kernelspec": {
   "display_name": "Python 3",
   "language": "python",
   "name": "python3"
  },
  "language_info": {
   "codemirror_mode": {
    "name": "ipython",
    "version": 3
   },
   "file_extension": ".py",
   "mimetype": "text/x-python",
   "name": "python",
   "nbconvert_exporter": "python",
   "pygments_lexer": "ipython3",
   "version": "3.7.4"
  }
 },
 "nbformat": 4,
 "nbformat_minor": 2
}
